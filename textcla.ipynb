{
  "nbformat": 4,
  "nbformat_minor": 0,
  "metadata": {
    "colab": {
      "name": "textcla.ipynb",
      "version": "0.3.2",
      "provenance": [],
      "collapsed_sections": [],
      "include_colab_link": true
    },
    "kernelspec": {
      "name": "python3",
      "display_name": "Python 3"
    },
    "accelerator": "GPU"
  },
  "cells": [
    {
      "cell_type": "markdown",
      "metadata": {
        "id": "view-in-github",
        "colab_type": "text"
      },
      "source": [
        "<a href=\"https://colab.research.google.com/github/huangeer/column-classifier-/blob/master/textcla.ipynb\" target=\"_parent\"><img src=\"https://colab.research.google.com/assets/colab-badge.svg\" alt=\"Open In Colab\"/></a>"
      ]
    },
    {
      "cell_type": "code",
      "metadata": {
        "id": "iVnXtmo9n9mQ",
        "colab_type": "code",
        "outputId": "fcda0f03-fb49-480f-e341-09b6a8fe7d3e",
        "colab": {
          "base_uri": "https://localhost:8080/",
          "height": 229
        }
      },
      "source": [
        "!apt-get install -y -qq software-properties-common python-software-properties module-init-tools\n",
        "\n",
        "!add-apt-repository -y ppa:alessandro-strada/ppa 2>&1 > /dev/null\n",
        "\n",
        "!apt-get update -qq 2>&1 > /dev/null\n",
        "\n",
        "!apt-get -y install -qq google-drive-ocamlfuse fuse\n",
        "\n",
        "from google.colab import auth\n",
        "\n",
        "auth.authenticate_user()\n",
        "\n",
        "from oauth2client.client import GoogleCredentials\n",
        "\n",
        "creds = GoogleCredentials.get_application_default()\n",
        "\n",
        "import getpass\n",
        "\n",
        "!google-drive-ocamlfuse -headless -id={creds.client_id} -secret={creds.client_secret} < /dev/null 2>&1 | grep URL\n",
        "\n",
        "vcode = getpass.getpass()\n",
        "\n",
        "!echo {vcode} | google-drive-ocamlfuse -headless -id={creds.client_id} -secret={creds.client_secret}"
      ],
      "execution_count": 0,
      "outputs": [
        {
          "output_type": "stream",
          "text": [
            "E: Package 'python-software-properties' has no installation candidate\n",
            "Selecting previously unselected package google-drive-ocamlfuse.\n",
            "(Reading database ... 130824 files and directories currently installed.)\n",
            "Preparing to unpack .../google-drive-ocamlfuse_0.7.3-0ubuntu3~ubuntu18.04.1_amd64.deb ...\n",
            "Unpacking google-drive-ocamlfuse (0.7.3-0ubuntu3~ubuntu18.04.1) ...\n",
            "Setting up google-drive-ocamlfuse (0.7.3-0ubuntu3~ubuntu18.04.1) ...\n",
            "Processing triggers for man-db (2.8.3-2ubuntu0.1) ...\n",
            "Please, open the following URL in a web browser: https://accounts.google.com/o/oauth2/auth?client_id=32555940559.apps.googleusercontent.com&redirect_uri=urn%3Aietf%3Awg%3Aoauth%3A2.0%3Aoob&scope=https%3A%2F%2Fwww.googleapis.com%2Fauth%2Fdrive&response_type=code&access_type=offline&approval_prompt=force\n",
            "··········\n",
            "Please, open the following URL in a web browser: https://accounts.google.com/o/oauth2/auth?client_id=32555940559.apps.googleusercontent.com&redirect_uri=urn%3Aietf%3Awg%3Aoauth%3A2.0%3Aoob&scope=https%3A%2F%2Fwww.googleapis.com%2Fauth%2Fdrive&response_type=code&access_type=offline&approval_prompt=force\n",
            "Please enter the verification code: Access token retrieved correctly.\n"
          ],
          "name": "stdout"
        }
      ]
    },
    {
      "cell_type": "code",
      "metadata": {
        "id": "pIEukgKPn9uf",
        "colab_type": "code",
        "colab": {}
      },
      "source": [
        "!mkdir -p drive\n",
        "\n",
        "!google-drive-ocamlfuse drive -o nonempty"
      ],
      "execution_count": 0,
      "outputs": []
    },
    {
      "cell_type": "code",
      "metadata": {
        "id": "-G2zFAjjRMuR",
        "colab_type": "code",
        "colab": {}
      },
      "source": [
        "import tensorflow as tf"
      ],
      "execution_count": 0,
      "outputs": []
    },
    {
      "cell_type": "code",
      "metadata": {
        "id": "eqglswh4RTBP",
        "colab_type": "code",
        "outputId": "fbb7873e-1eb8-4aa5-d114-2624d0108263",
        "colab": {
          "base_uri": "https://localhost:8080/",
          "height": 71
        }
      },
      "source": [
        "index_first=input('第一类索引：')\n",
        "index_second=input('第二类索引：')\n",
        "index_third=input('第三类索引：')"
      ],
      "execution_count": 9,
      "outputs": [
        {
          "output_type": "stream",
          "text": [
            "第一类索引：lineID\n",
            "第二类索引：stationID\n",
            "第三类索引：deviceID\n"
          ],
          "name": "stdout"
        }
      ]
    },
    {
      "cell_type": "code",
      "metadata": {
        "id": "-FyB5s96RfJO",
        "colab_type": "code",
        "colab": {}
      },
      "source": [
        "import tensorflow as tf\n",
        "import pandas as pd"
      ],
      "execution_count": 0,
      "outputs": []
    },
    {
      "cell_type": "code",
      "metadata": {
        "id": "bhTWfbQKn1xP",
        "colab_type": "code",
        "outputId": "45736646-494e-432d-d66c-6d0ebce340a2",
        "colab": {
          "base_uri": "https://localhost:8080/",
          "height": 35
        }
      },
      "source": [
        "!ls drive"
      ],
      "execution_count": 2,
      "outputs": [
        {
          "output_type": "stream",
          "text": [
            "'Colab Notebooks'   testA\n"
          ],
          "name": "stdout"
        }
      ]
    },
    {
      "cell_type": "code",
      "metadata": {
        "id": "7JJ_f8pTSZIA",
        "colab_type": "code",
        "colab": {}
      },
      "source": [
        "Metro_one_path='/content/drive/Colab Notebooks/Metro_train/record_2019-01-01.csv'\n",
        "Metro_one=pd.read_csv(Metro_one_path)"
      ],
      "execution_count": 0,
      "outputs": []
    },
    {
      "cell_type": "code",
      "metadata": {
        "id": "veFVcScwSt4g",
        "colab_type": "code",
        "colab": {}
      },
      "source": [
        "Metro_one_index_one_list=Metro_one[index_one].unique()"
      ],
      "execution_count": 0,
      "outputs": []
    },
    {
      "cell_type": "code",
      "metadata": {
        "id": "mU87np_sSd1H",
        "colab_type": "code",
        "colab": {}
      },
      "source": [
        "Metro_one_index_one=Metro_one.set_index(index_one)"
      ],
      "execution_count": 0,
      "outputs": []
    },
    {
      "cell_type": "code",
      "metadata": {
        "id": "VxhaG186oh_J",
        "colab_type": "code",
        "colab": {}
      },
      "source": [
        "import time"
      ],
      "execution_count": 0,
      "outputs": []
    },
    {
      "cell_type": "code",
      "metadata": {
        "id": "YXpA4DWson9y",
        "colab_type": "code",
        "colab": {}
      },
      "source": [
        "Metro_one_index_one.to_csv('1.csv')"
      ],
      "execution_count": 0,
      "outputs": []
    },
    {
      "cell_type": "code",
      "metadata": {
        "id": "3iM_8MGep5i-",
        "colab_type": "code",
        "colab": {}
      },
      "source": [
        "import os"
      ],
      "execution_count": 0,
      "outputs": []
    },
    {
      "cell_type": "code",
      "metadata": {
        "id": "6c4o3Q_PTHwB",
        "colab_type": "code",
        "outputId": "dec49c43-4c0f-4dc1-9d1c-87beacfb4608",
        "colab": {
          "base_uri": "https://localhost:8080/",
          "height": 824
        }
      },
      "source": [
        "file_line=[]\n",
        "file_station=[]\n",
        "file_device=[]\n",
        "for x in Metro_one_index_one_list:\n",
        "  Metro_one_index_one_cla=[]\n",
        "  Metro_one_index_one_cla.append(Metro_one_index_one.ix[x])\n",
        "  Metro_one_index_one.ix[x].to_csv('1.csv')\n",
        "  dst='line' + str(x) + '.csv'\n",
        "  os.rename('1.csv',dst)\n",
        "  file_line.append(dst)\n",
        "  \n",
        "  for j in range(len(Metro_one_index_one_cla)):\n",
        "    Metro_one_index_one_cla_station_list=Metro_one_index_one_cla[j][index_two].unique()\n",
        "    Metro_one_index_one_cla_index_two=Metro_one_index_one_cla[j].set_index(index_two)\n",
        "    \n",
        "    for x in Metro_one_index_one_cla_station_list:\n",
        "        Metro_one_index_one_cla_index_two_station=[]\n",
        "        Metro_one_index_one_cla_index_two_station.append(Metro_one_index_one_cla_index_two.ix[x])\n",
        "        Metro_one_index_one_cla_index_two.ix[x].to_csv('2.csv')\n",
        "        dst='station' + str(x) + '.csv'\n",
        "        os.rename('2.csv',dst)\n",
        "        file_station.append(dst)\n",
        "    \n",
        "        for k in range(len(Metro_one_index_one_cla_index_two_station)):\n",
        "            Metro_one_index_one_cla_index_two_station_device_list=Metro_one_index_one_cla_index_two_station[k][index_three].unique()\n",
        "            Metro_one_index_one_cla_index_two_station_index_three=Metro_one_index_one_cla_index_two_station[k].set_index(index_three)\n",
        "            \n",
        "            for x in Metro_one_index_one_cla_index_two_station_device_list:\n",
        "                Metro_one_index_one_cla_index_two_station_index_three_device=[]\n",
        "                Metro_one_index_one_cla_index_two_station_index_three_device.append(Metro_one_index_one_cla_index_two_station_index_three.ix[x]) \n",
        "                Metro_one_index_one_cla_index_two_station_index_three.ix[x].to_csv('3.csv')\n",
        "                dst='device' + str(x) + '.csv'\n",
        "                os.rename('3.csv',dst)\n",
        "                file_device.append(dst)"
      ],
      "execution_count": 17,
      "outputs": [
        {
          "output_type": "stream",
          "text": [
            "/usr/local/lib/python3.6/dist-packages/ipykernel_launcher.py:6: DeprecationWarning: \n",
            ".ix is deprecated. Please use\n",
            ".loc for label based indexing or\n",
            ".iloc for positional indexing\n",
            "\n",
            "See the documentation here:\n",
            "http://pandas.pydata.org/pandas-docs/stable/indexing.html#ix-indexer-is-deprecated\n",
            "  \n",
            "/usr/local/lib/python3.6/dist-packages/ipykernel_launcher.py:7: DeprecationWarning: \n",
            ".ix is deprecated. Please use\n",
            ".loc for label based indexing or\n",
            ".iloc for positional indexing\n",
            "\n",
            "See the documentation here:\n",
            "http://pandas.pydata.org/pandas-docs/stable/indexing.html#ix-indexer-is-deprecated\n",
            "  import sys\n",
            "/usr/local/lib/python3.6/dist-packages/ipykernel_launcher.py:18: DeprecationWarning: \n",
            ".ix is deprecated. Please use\n",
            ".loc for label based indexing or\n",
            ".iloc for positional indexing\n",
            "\n",
            "See the documentation here:\n",
            "http://pandas.pydata.org/pandas-docs/stable/indexing.html#ix-indexer-is-deprecated\n",
            "/usr/local/lib/python3.6/dist-packages/ipykernel_launcher.py:19: DeprecationWarning: \n",
            ".ix is deprecated. Please use\n",
            ".loc for label based indexing or\n",
            ".iloc for positional indexing\n",
            "\n",
            "See the documentation here:\n",
            "http://pandas.pydata.org/pandas-docs/stable/indexing.html#ix-indexer-is-deprecated\n",
            "/usr/local/lib/python3.6/dist-packages/ipykernel_launcher.py:30: DeprecationWarning: \n",
            ".ix is deprecated. Please use\n",
            ".loc for label based indexing or\n",
            ".iloc for positional indexing\n",
            "\n",
            "See the documentation here:\n",
            "http://pandas.pydata.org/pandas-docs/stable/indexing.html#ix-indexer-is-deprecated\n",
            "/usr/local/lib/python3.6/dist-packages/ipykernel_launcher.py:31: DeprecationWarning: \n",
            ".ix is deprecated. Please use\n",
            ".loc for label based indexing or\n",
            ".iloc for positional indexing\n",
            "\n",
            "See the documentation here:\n",
            "http://pandas.pydata.org/pandas-docs/stable/indexing.html#ix-indexer-is-deprecated\n",
            "/usr/local/lib/python3.6/dist-packages/ipykernel_launcher.py:31: FutureWarning: The signature of `Series.to_csv` was aligned to that of `DataFrame.to_csv`, and argument 'header' will change its default value from False to True: please pass an explicit value to suppress this warning.\n"
          ],
          "name": "stderr"
        }
      ]
    },
    {
      "cell_type": "code",
      "metadata": {
        "id": "r6uCZNS4wUJt",
        "colab_type": "code",
        "colab": {}
      },
      "source": [
        "for x in file_line:\n",
        "  os.remove(x)\n",
        "for x in file_station:\n",
        "  os.remove(x)\n",
        "for x in file_device:\n",
        "  os.remove(x)\n",
        "file=!ls  /content\n",
        "\n",
        "a=[]\n",
        "b=[]\n",
        "for i in range(len(file)):\n",
        "  a.append(file[i].split('\\t'))\n",
        "  for j in range(len(a)):\n",
        "    for k in range(len(a[j])):\n",
        "      b.append(a[j][k].split(' '))\n",
        "      \n",
        "for f in b:\n",
        "  if type(f)==str:\n",
        "    if os.path.splitext(f)[-1]=='.csv':\n",
        "      os.remove(f)\n",
        "    else:\n",
        "      print('Everything is Ok!')\n",
        "  if type(f)==list:\n",
        "    for i in range(len(f)):\n",
        "      try:\n",
        "        if os.path.splitext(f[i])[-1]=='.csv':\n",
        "          os.remove(f[i])\n",
        "        else:\n",
        "          print('Everything is really Ok!')\n",
        "    \n",
        "      except FileNotFoundError: \n",
        "          print('FileNotFound')"
      ],
      "execution_count": 0,
      "outputs": []
    }
  ]
}